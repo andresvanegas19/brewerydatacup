{
  "nbformat": 4,
  "nbformat_minor": 0,
  "metadata": {
    "kernel_info": {
      "name": "python3-azureml"
    },
    "kernelspec": {
      "name": "python3",
      "display_name": "Python 3"
    },
    "nteract": {
      "version": "nteract-front-end@1.0.0"
    },
    "colab": {
      "name": "hackaton.ipynb",
      "provenance": [],
      "collapsed_sections": [],
      "toc_visible": true,
      "include_colab_link": true
    }
  },
  "cells": [
    {
      "cell_type": "markdown",
      "metadata": {
        "id": "view-in-github",
        "colab_type": "text"
      },
      "source": [
        "<a href=\"https://colab.research.google.com/github/dewith/brewerydatacup/blob/main/hackaton.ipynb\" target=\"_parent\"><img src=\"https://colab.research.google.com/assets/colab-badge.svg\" alt=\"Open In Colab\"/></a>"
      ]
    },
    {
      "cell_type": "markdown",
      "metadata": {
        "nteract": {
          "transient": {
            "deleting": false
          }
        },
        "id": "EI55bKku3fb3"
      },
      "source": [
        "<br>\n",
        "\n",
        "# Brewery Data Cup - Colombia\n",
        "\n",
        "En Bavaria queremos encontrar la mejor estrategia de impulso, mantenimiento o frenado, \n",
        "de un listado de marcas establecido, con el objetivo de ofrecer el mejor portafolio a nuestros \n",
        "puntos de venta/zonas dependiendo de sus características e historial de compra.\n",
        "\n",
        "> **¿Qué construir?** <br> El objetivo es encontrar la probabilidad de que un cliente compre cada una de las marcas dadas, con el fin de asignar la estrategia adecuada a cada uno de ellos."
      ]
    },
    {
      "cell_type": "code",
      "metadata": {
        "colab": {
          "base_uri": "https://localhost:8080/"
        },
        "id": "nAvfZyEu3sKp",
        "outputId": "552786a5-6fc6-40b9-dfae-9d0fb8263cab"
      },
      "source": [
        "from google.colab import drive\n",
        "drive.mount('/content/drive')"
      ],
      "execution_count": null,
      "outputs": [
        {
          "output_type": "stream",
          "text": [
            "Drive already mounted at /content/drive; to attempt to forcibly remount, call drive.mount(\"/content/drive\", force_remount=True).\n"
          ],
          "name": "stdout"
        }
      ]
    },
    {
      "cell_type": "markdown",
      "metadata": {
        "nteract": {
          "transient": {
            "deleting": false
          }
        },
        "id": "0zUSCm-k3fb4"
      },
      "source": [
        "## 1. Análisis exploratorio "
      ]
    },
    {
      "cell_type": "markdown",
      "metadata": {
        "nteract": {
          "transient": {
            "deleting": false
          }
        },
        "id": "gLaRsDxZ3fb4"
      },
      "source": [
        "### 1.1 Importaciones\n",
        "Importamos la librerías necesarias"
      ]
    },
    {
      "cell_type": "code",
      "metadata": {
        "gather": {
          "logged": 1606514608278
        },
        "jupyter": {
          "outputs_hidden": false,
          "source_hidden": false
        },
        "nteract": {
          "transient": {
            "deleting": false
          }
        },
        "id": "AAJjsltk3fb4"
      },
      "source": [
        "''' Data manipulation '''\n",
        "import numpy as np\n",
        "import pandas as pd\n",
        "\n",
        "''' Visualization '''\n",
        "import matplotlib.pyplot as plt\n",
        "import seaborn as sns\n",
        "#%matplotlib inline \n",
        "\n",
        "\n",
        "''' Machine Learning '''\n",
        "# Scaling and tranformations\n",
        "from sklearn.preprocessing import StandardScaler \n",
        "\n",
        "# Encoding\n",
        "from sklearn.preprocessing import OneHotEncoder\n",
        "\n",
        "# Modeling\n",
        "from sklearn.tree import DecisionTreeClassifier\n",
        "from sklearn.ensemble import RandomForestClassifier\n",
        "import xgboost as xgb\n",
        "\n",
        "# Selection\n",
        "from sklearn.compose import make_column_transformer\n",
        "from sklearn.pipeline import make_pipeline\n",
        "from sklearn.model_selection import train_test_split, KFold\n",
        "from sklearn.model_selection import GridSearchCV, RandomizedSearchCV\n",
        "\n",
        "# Evaluation\n",
        "from sklearn.model_selection import cross_val_score\n",
        "from sklearn.metrics import roc_auc_score, accuracy_score"
      ],
      "execution_count": null,
      "outputs": []
    },
    {
      "cell_type": "markdown",
      "metadata": {
        "nteract": {
          "transient": {
            "deleting": false
          }
        },
        "id": "21b5k4tn3fb5"
      },
      "source": [
        "Configuramos el estilo de los gráficos\n"
      ]
    },
    {
      "cell_type": "code",
      "metadata": {
        "jupyter": {
          "outputs_hidden": false,
          "source_hidden": false
        },
        "nteract": {
          "transient": {
            "deleting": false
          }
        },
        "id": "AknNaOI73fb5"
      },
      "source": [
        "from matplotlib.colors import LinearSegmentedColormap\n",
        "\n",
        "# Palette\n",
        "blue = '#146EF5'\n",
        "red = '#ED3767'\n",
        "amber = '#F5B14C'\n",
        "mint = '#17BED1'\n",
        "purple = '#815ADB'\n",
        "pink = '#FE90AD'\n",
        "palette = [blue, red, pink, purple, amber, mint]\n",
        "\n",
        "# Sequential colormap\n",
        "bluemint = LinearSegmentedColormap.from_list(\"myBlues\", [mint, blue])\n",
        "redpink = LinearSegmentedColormap.from_list(\"myReds\", [pink, red])\n",
        "redwhite = LinearSegmentedColormap.from_list(\"myReds\", ['white', red])\n",
        "bluewhite = LinearSegmentedColormap.from_list(\"myReds\", ['white', blue])\n",
        "\n",
        "# Diverging colormap\n",
        "bluered = LinearSegmentedColormap.from_list(\"myBlueRed\", [red, \"white\", blue])\n",
        "blupurred = LinearSegmentedColormap.from_list(\"myBlueRed\", [red, purple, blue])\n",
        "rainbow = LinearSegmentedColormap.from_list(\"myBlueRed\", [pink, red, purple, blue, mint])\n",
        "\n",
        "params = {'axes.edgecolor': '0.9', 'axes.labelcolor': '0.4',\n",
        "          'text.color': '0.3', 'xtick.color': '0.5', 'ytick.color': '0.5',\n",
        "          'font.size': 16, 'axes.titlesize': 16, 'axes.labelsize': 12,\n",
        "          'xtick.labelsize': 12, 'ytick.labelsize': 12,\n",
        "          'figure.figsize': (9, 6), 'axes.spines.right': False, 'axes.spines.top': False}\n",
        "\n",
        "sns.set(context='notebook', style='white', palette=palette, rc=params)"
      ],
      "execution_count": null,
      "outputs": []
    },
    {
      "cell_type": "markdown",
      "metadata": {
        "nteract": {
          "transient": {
            "deleting": false
          }
        },
        "id": "JmXqycZi3fb5"
      },
      "source": [
        "### 1.2 Carga de datos"
      ]
    },
    {
      "cell_type": "code",
      "metadata": {
        "gather": {
          "logged": 1606514618222
        },
        "jupyter": {
          "outputs_hidden": false,
          "source_hidden": false
        },
        "nteract": {
          "transient": {
            "deleting": false
          }
        },
        "id": "EimeE88Q3fb6"
      },
      "source": [
        "df_estructura = pd.read_csv('/content/drive/MyDrive/Hackaton/data/Input1_clientes_estructura.csv', sep=';')\n",
        "df_venta = pd.read_csv('/content/drive/MyDrive/Hackaton/data/Input2_clientes_venta.csv', sep=';')\n",
        "df_test = pd.read_csv('/content/drive/MyDrive/Hackaton/data/Input3_clientes_test.csv', sep=';')"
      ],
      "execution_count": null,
      "outputs": []
    },
    {
      "cell_type": "code",
      "metadata": {
        "id": "PrWQCr_p3fb6",
        "colab": {
          "base_uri": "https://localhost:8080/"
        },
        "outputId": "262aeffd-37f5-4058-f4e0-20977a90029c"
      },
      "source": [
        "print('Shape de Estructura:', df_estructura.shape)\n",
        "print('Shape de Ventas:', df_venta.shape)\n",
        "print('Shape de Test:', df_test.shape)"
      ],
      "execution_count": null,
      "outputs": [
        {
          "output_type": "stream",
          "text": [
            "Shape de Estructura: (20921, 6)\n",
            "Shape de Ventas: (1406116, 10)\n",
            "Shape de Test: (9302, 6)\n"
          ],
          "name": "stdout"
        }
      ]
    },
    {
      "cell_type": "markdown",
      "metadata": {
        "id": "qSFKAOAe3fb7"
      },
      "source": [
        "Revisamos que no haya registros duplicados ni valores faltantes."
      ]
    },
    {
      "cell_type": "code",
      "metadata": {
        "id": "yeA8SYxQ3fb7",
        "colab": {
          "base_uri": "https://localhost:8080/"
        },
        "outputId": "8fae47d2-0961-4e41-9235-50b00fb5d3dd"
      },
      "source": [
        "for (name, df) in zip(['Estructura', 'Venta', 'Test'], [df_estructura, df_venta, df_test]):\n",
        "    print('Valores duplicados en {}:'.format(name), end=' ')\n",
        "    print(df.duplicated().sum())"
      ],
      "execution_count": null,
      "outputs": [
        {
          "output_type": "stream",
          "text": [
            "Valores duplicados en Estructura: 0\n",
            "Valores duplicados en Venta: 0\n",
            "Valores duplicados en Test: 0\n"
          ],
          "name": "stdout"
        }
      ]
    },
    {
      "cell_type": "code",
      "metadata": {
        "id": "iCfUrVUX3fb7",
        "colab": {
          "base_uri": "https://localhost:8080/"
        },
        "outputId": "4e48ed5d-0535-490f-f243-8873277010e0"
      },
      "source": [
        "for (name, df) in zip(['Estructura', 'Venta', 'Test'], [df_estructura, df_venta, df_test]):\n",
        "    print('Valores faltantes en {}:'.format(name),)\n",
        "    print('='*40)\n",
        "    print(df.isna().sum(), '\\n')"
      ],
      "execution_count": null,
      "outputs": [
        {
          "output_type": "stream",
          "text": [
            "Valores faltantes en Estructura:\n",
            "========================================\n",
            "Cliente      0\n",
            "Regional2    0\n",
            "Gerencia2    0\n",
            "SubCanal2    0\n",
            "Categoria    0\n",
            "Nevera       0\n",
            "dtype: int64 \n",
            "\n",
            "Valores faltantes en Venta:\n",
            "========================================\n",
            "Año                 0\n",
            "Mes                 0\n",
            "Cliente             0\n",
            "SegmentoPrecio2     0\n",
            "Marca2              0\n",
            "Cupo2               0\n",
            "CapacidadEnvase2    0\n",
            "Volumen             0\n",
            "disc                0\n",
            "nr                  0\n",
            "dtype: int64 \n",
            "\n",
            "Valores faltantes en Test:\n",
            "========================================\n",
            "Cliente           0\n",
            "Marca1         9302\n",
            "Marca2         9302\n",
            "Marca3         9302\n",
            "Marca_Inno1    9302\n",
            "Marca_Inno2    9302\n",
            "dtype: int64 \n",
            "\n"
          ],
          "name": "stdout"
        }
      ]
    },
    {
      "cell_type": "markdown",
      "metadata": {
        "id": "wov6C5_s3fb7"
      },
      "source": [
        "El dataset de test está completamente vacío porque es lo nuestro modelo predecirá. POr lo tanto no hay que realizar ningún tipo de preprocesamiento al respecto."
      ]
    },
    {
      "cell_type": "markdown",
      "metadata": {
        "id": "ZLg9zi4V3fb7"
      },
      "source": [
        "### 1.3 Exploración de los datasets"
      ]
    },
    {
      "cell_type": "markdown",
      "metadata": {
        "id": "Lp6fq1Hv3fb7"
      },
      "source": [
        "#### 1.3.1 Estructura "
      ]
    },
    {
      "cell_type": "markdown",
      "metadata": {
        "id": "5GUZH9wT3fb7"
      },
      "source": [
        "El dataset de **estrucutra** representa los datos y atributos de la base de clientes. Cada cliente es un establecimiento donde se comercian los productos: bares, tiendas, etc. \n",
        "- Cliente: Id del establecimiento\n",
        "- Regional2: Región donde se encuentra ubicado\n",
        "- Gerencia2: Gerencia que le distribuye el producto (Conjunto de 1, 2 o mas ciudades)\n",
        "- SubCanal2: Tipo de establecimiento (Tienda, Bar, etc)\n",
        "- Categoria: Variable usada AB-Inbev para calificar la importancia de un establecimiento dada su compra histórica.\n",
        "- Nevera: Variable dummie que me permite ver si el establecimiento tiene o no una nevera en su punto de venta."
      ]
    },
    {
      "cell_type": "code",
      "metadata": {
        "id": "gl3ViZgv3fb7",
        "colab": {
          "base_uri": "https://localhost:8080/",
          "height": 373
        },
        "outputId": "a7c210c0-2ac9-4c15-bdcb-601c2f183c72"
      },
      "source": [
        "df_estructura.describe(include='all')"
      ],
      "execution_count": null,
      "outputs": [
        {
          "output_type": "execute_result",
          "data": {
            "text/html": [
              "<div>\n",
              "<style scoped>\n",
              "    .dataframe tbody tr th:only-of-type {\n",
              "        vertical-align: middle;\n",
              "    }\n",
              "\n",
              "    .dataframe tbody tr th {\n",
              "        vertical-align: top;\n",
              "    }\n",
              "\n",
              "    .dataframe thead th {\n",
              "        text-align: right;\n",
              "    }\n",
              "</style>\n",
              "<table border=\"1\" class=\"dataframe\">\n",
              "  <thead>\n",
              "    <tr style=\"text-align: right;\">\n",
              "      <th></th>\n",
              "      <th>Cliente</th>\n",
              "      <th>Regional2</th>\n",
              "      <th>Gerencia2</th>\n",
              "      <th>SubCanal2</th>\n",
              "      <th>Categoria</th>\n",
              "      <th>Nevera</th>\n",
              "    </tr>\n",
              "  </thead>\n",
              "  <tbody>\n",
              "    <tr>\n",
              "      <th>count</th>\n",
              "      <td>20921.000000</td>\n",
              "      <td>20921</td>\n",
              "      <td>20921</td>\n",
              "      <td>20921</td>\n",
              "      <td>20921</td>\n",
              "      <td>20921.000000</td>\n",
              "    </tr>\n",
              "    <tr>\n",
              "      <th>unique</th>\n",
              "      <td>NaN</td>\n",
              "      <td>1</td>\n",
              "      <td>11</td>\n",
              "      <td>32</td>\n",
              "      <td>6</td>\n",
              "      <td>NaN</td>\n",
              "    </tr>\n",
              "    <tr>\n",
              "      <th>top</th>\n",
              "      <td>NaN</td>\n",
              "      <td>Regional 1</td>\n",
              "      <td>Gerencia_10</td>\n",
              "      <td>Subcanal_3</td>\n",
              "      <td>Categoria_2</td>\n",
              "      <td>NaN</td>\n",
              "    </tr>\n",
              "    <tr>\n",
              "      <th>freq</th>\n",
              "      <td>NaN</td>\n",
              "      <td>20921</td>\n",
              "      <td>5441</td>\n",
              "      <td>8217</td>\n",
              "      <td>8773</td>\n",
              "      <td>NaN</td>\n",
              "    </tr>\n",
              "    <tr>\n",
              "      <th>mean</th>\n",
              "      <td>10461.000000</td>\n",
              "      <td>NaN</td>\n",
              "      <td>NaN</td>\n",
              "      <td>NaN</td>\n",
              "      <td>NaN</td>\n",
              "      <td>0.397830</td>\n",
              "    </tr>\n",
              "    <tr>\n",
              "      <th>std</th>\n",
              "      <td>6039.516827</td>\n",
              "      <td>NaN</td>\n",
              "      <td>NaN</td>\n",
              "      <td>NaN</td>\n",
              "      <td>NaN</td>\n",
              "      <td>0.489462</td>\n",
              "    </tr>\n",
              "    <tr>\n",
              "      <th>min</th>\n",
              "      <td>1.000000</td>\n",
              "      <td>NaN</td>\n",
              "      <td>NaN</td>\n",
              "      <td>NaN</td>\n",
              "      <td>NaN</td>\n",
              "      <td>0.000000</td>\n",
              "    </tr>\n",
              "    <tr>\n",
              "      <th>25%</th>\n",
              "      <td>5231.000000</td>\n",
              "      <td>NaN</td>\n",
              "      <td>NaN</td>\n",
              "      <td>NaN</td>\n",
              "      <td>NaN</td>\n",
              "      <td>0.000000</td>\n",
              "    </tr>\n",
              "    <tr>\n",
              "      <th>50%</th>\n",
              "      <td>10461.000000</td>\n",
              "      <td>NaN</td>\n",
              "      <td>NaN</td>\n",
              "      <td>NaN</td>\n",
              "      <td>NaN</td>\n",
              "      <td>0.000000</td>\n",
              "    </tr>\n",
              "    <tr>\n",
              "      <th>75%</th>\n",
              "      <td>15691.000000</td>\n",
              "      <td>NaN</td>\n",
              "      <td>NaN</td>\n",
              "      <td>NaN</td>\n",
              "      <td>NaN</td>\n",
              "      <td>1.000000</td>\n",
              "    </tr>\n",
              "    <tr>\n",
              "      <th>max</th>\n",
              "      <td>20921.000000</td>\n",
              "      <td>NaN</td>\n",
              "      <td>NaN</td>\n",
              "      <td>NaN</td>\n",
              "      <td>NaN</td>\n",
              "      <td>1.000000</td>\n",
              "    </tr>\n",
              "  </tbody>\n",
              "</table>\n",
              "</div>"
            ],
            "text/plain": [
              "             Cliente   Regional2  ...    Categoria        Nevera\n",
              "count   20921.000000       20921  ...        20921  20921.000000\n",
              "unique           NaN           1  ...            6           NaN\n",
              "top              NaN  Regional 1  ...  Categoria_2           NaN\n",
              "freq             NaN       20921  ...         8773           NaN\n",
              "mean    10461.000000         NaN  ...          NaN      0.397830\n",
              "std      6039.516827         NaN  ...          NaN      0.489462\n",
              "min         1.000000         NaN  ...          NaN      0.000000\n",
              "25%      5231.000000         NaN  ...          NaN      0.000000\n",
              "50%     10461.000000         NaN  ...          NaN      0.000000\n",
              "75%     15691.000000         NaN  ...          NaN      1.000000\n",
              "max     20921.000000         NaN  ...          NaN      1.000000\n",
              "\n",
              "[11 rows x 6 columns]"
            ]
          },
          "metadata": {
            "tags": []
          },
          "execution_count": 16
        }
      ]
    },
    {
      "cell_type": "markdown",
      "metadata": {
        "id": "MdVX0-4r3fb8"
      },
      "source": [
        "Con el anterior _describe_ podemos sacar algunas conclusiones:\n",
        "- Todos los mismos clientes se encuentran en la misma región, por lo que esta variable no tendrá efecto en el modelo.\n",
        "- Hay un total de 11 gerencias y 32 tipos de establecimiento.\n",
        "- AB InBev maneja 6 categorías de establecimiento según su importancia comercial. Donde el más común, es la Categoria_2.\n",
        "- Casi el 40% de los establecimientos tiene una nevera en su punto de venta."
      ]
    },
    {
      "cell_type": "code",
      "metadata": {
        "id": "3oNj5rHs3fb8",
        "colab": {
          "base_uri": "https://localhost:8080/",
          "height": 430
        },
        "outputId": "85e94562-41f4-4600-c658-6d4054bf0a4a"
      },
      "source": [
        "def put_labels(X, text_format='{:,}', fontsize=12):\n",
        "    '''\n",
        "    Función para colocar labels en las barras\n",
        "    '''\n",
        "    padding = max(X) * 0.01\n",
        "    for i, val in enumerate(X):\n",
        "        ax.text(x=X[i]+padding,\n",
        "                y=i,\n",
        "                s=text_format.format(X[i]),\n",
        "                va='center',\n",
        "                ha='left',\n",
        "                color='0.6',\n",
        "                weight='bold',\n",
        "                fontsize=fontsize)\n",
        "\n",
        "\n",
        "#Hallamos el número de reseñas por categoría\n",
        "category = df_estructura['Gerencia2'].value_counts()\n",
        "\n",
        "# Creamos el gráfico\n",
        "plt.figure(figsize=(7, 7))\n",
        "ax = sns.barplot(x=category.values, \n",
        "                 y=category.index,\n",
        "                 palette=palette, \n",
        "                 orient='h',\n",
        "                 saturation=1,\n",
        "                )\n",
        "\n",
        "#change_height(ax, 0.87)\n",
        "put_labels(category)\n",
        "ax.set_title('Número de reseñas por categoría')\n",
        "ax.set_xlabel('')\n",
        "ax.set_ylabel('')\n",
        "ax.set_xticks(())\n",
        "sns.despine(bottom=True)"
      ],
      "execution_count": null,
      "outputs": [
        {
          "output_type": "display_data",
          "data": {
            "image/png": "[encoded data removed]",
            "text/plain": [
              "<Figure size 504x504 with 1 Axes>"
            ]
          },
          "metadata": {
            "tags": []
          }
        }
      ]
    },
    {
      "cell_type": "markdown",
      "metadata": {
        "id": "BV4y0Q_388xs"
      },
      "source": [
        "## Identificar las marcas"
      ]
    },
    {
      "cell_type": "code",
      "metadata": {
        "id": "85pVrb5b_XNa"
      },
      "source": [
        ""
      ],
      "execution_count": null,
      "outputs": []
    },
    {
      "cell_type": "code",
      "metadata": {
        "colab": {
          "base_uri": "https://localhost:8080/"
        },
        "id": "HYTl5KNl8qea",
        "outputId": "23c0c7bf-2abf-4e60-feed-5bc1beef2250"
      },
      "source": [
        "\n",
        "conditions = [\n",
        "  # Marca1: Marca_20 - Cupo_3 - CapacidadEnvase_9\n",
        "  ( df_venta['Marca2'] == 'Marca_20') & ( df_venta['Cupo2'] == 'Cupo_3') & ( df_venta['CapacidadEnvase2'] == 'CapacidadEnvase_9'),\n",
        "  # Marca2: Marca_16- Cupo_2 - CapacidadEnvase_10\n",
        "  ( df_venta['Marca2'] == 'Marca_16') & ( df_venta['Cupo2'] == 'Cupo_2') & ( df_venta['CapacidadEnvase2'] == 'CapacidadEnvase_10'),\n",
        "  # Marca3: Marca_9-Cupo_3-CapacidadEnvase_12\n",
        "  ( df_venta['Marca2'] == 'Marca_9') & ( df_venta['Cupo2'] == 'Cupo_3') & ( df_venta['CapacidadEnvase2'] == 'CapacidadEnvase_12'),\n",
        "  # Marca_Inno1: Marca_38- Cupo_2 -CapacidadEnvase_10\n",
        "  ( df_venta['Marca2'] == 'Marca_38') & ( df_venta['Cupo2'] == 'Cupo_2') & ( df_venta['CapacidadEnvase2'] == 'CapacidadEnvase_10'),\n",
        "  # Marca_Inno2: Marca_39-Cupo_2-CapacidadEnvase_10\n",
        "  ( df_venta['Marca2'] == 'Marca_39') & ( df_venta['Cupo2'] == 'Cupo_2') & ( df_venta['CapacidadEnvase2'] == 'CapacidadEnvase_10'),\n",
        "]\n",
        "\n",
        "\n",
        "# Agrupar las marcas por sus carcateristicas para poder validar el producto\n",
        "df_venta['producto'] = np.select(conditions, [1, 2, 3, 4, 5])\n",
        "\n",
        "# Escoger los productos para analizar su comportamiento\n",
        "ventas_totales =  df_venta.loc[ df_venta['producto'] != 0].reset_index(drop=True)\n",
        "\n",
        "# Agrupar los valores de los productos para ver las ventas historicas totales\n",
        "ventas_totales.groupby(['producto']).sum().nr"
      ],
      "execution_count": null,
      "outputs": [
        {
          "output_type": "execute_result",
          "data": {
            "text/plain": [
              "producto\n",
              "1    2.883425e+06\n",
              "2    4.912429e+06\n",
              "3    7.826358e+07\n",
              "4    1.535347e+07\n",
              "5    9.243934e+06\n",
              "Name: nr, dtype: float64"
            ]
          },
          "metadata": {
            "tags": []
          },
          "execution_count": 33
        }
      ]
    },
    {
      "cell_type": "code",
      "metadata": {
        "gather": {
          "logged": 1606514624641
        },
        "jupyter": {
          "outputs_hidden": false,
          "source_hidden": false
        },
        "nteract": {
          "transient": {
            "deleting": false
          }
        },
        "id": "ASqeKrIc3fb8",
        "colab": {
          "base_uri": "https://localhost:8080/",
          "height": 359
        },
        "outputId": "83a3339b-c2cc-4197-b946-a462088d61ca"
      },
      "source": [
        "df_venta.head(10)"
      ],
      "execution_count": null,
      "outputs": [
        {
          "output_type": "execute_result",
          "data": {
            "text/html": [
              "<div>\n",
              "<style scoped>\n",
              "    .dataframe tbody tr th:only-of-type {\n",
              "        vertical-align: middle;\n",
              "    }\n",
              "\n",
              "    .dataframe tbody tr th {\n",
              "        vertical-align: top;\n",
              "    }\n",
              "\n",
              "    .dataframe thead th {\n",
              "        text-align: right;\n",
              "    }\n",
              "</style>\n",
              "<table border=\"1\" class=\"dataframe\">\n",
              "  <thead>\n",
              "    <tr style=\"text-align: right;\">\n",
              "      <th></th>\n",
              "      <th>Año</th>\n",
              "      <th>Mes</th>\n",
              "      <th>Cliente</th>\n",
              "      <th>SegmentoPrecio2</th>\n",
              "      <th>Marca2</th>\n",
              "      <th>Cupo2</th>\n",
              "      <th>CapacidadEnvase2</th>\n",
              "      <th>Volumen</th>\n",
              "      <th>disc</th>\n",
              "      <th>nr</th>\n",
              "      <th>producto</th>\n",
              "    </tr>\n",
              "  </thead>\n",
              "  <tbody>\n",
              "    <tr>\n",
              "      <th>0</th>\n",
              "      <td>2019</td>\n",
              "      <td>5</td>\n",
              "      <td>10</td>\n",
              "      <td>SegmentoPrecio_1</td>\n",
              "      <td>Marca_1</td>\n",
              "      <td>Cupo_1</td>\n",
              "      <td>CapacidadEnvase_12</td>\n",
              "      <td>0.112229</td>\n",
              "      <td>-30.590603</td>\n",
              "      <td>900.328567</td>\n",
              "      <td>0</td>\n",
              "    </tr>\n",
              "    <tr>\n",
              "      <th>1</th>\n",
              "      <td>2019</td>\n",
              "      <td>5</td>\n",
              "      <td>10</td>\n",
              "      <td>SegmentoPrecio_1</td>\n",
              "      <td>Marca_2</td>\n",
              "      <td>Cupo_2</td>\n",
              "      <td>CapacidadEnvase_10</td>\n",
              "      <td>0.021734</td>\n",
              "      <td>0.000000</td>\n",
              "      <td>149.184463</td>\n",
              "      <td>0</td>\n",
              "    </tr>\n",
              "    <tr>\n",
              "      <th>2</th>\n",
              "      <td>2019</td>\n",
              "      <td>5</td>\n",
              "      <td>10</td>\n",
              "      <td>SegmentoPrecio_2</td>\n",
              "      <td>Marca_3</td>\n",
              "      <td>Cupo_2</td>\n",
              "      <td>CapacidadEnvase_10</td>\n",
              "      <td>0.043469</td>\n",
              "      <td>0.000000</td>\n",
              "      <td>359.625828</td>\n",
              "      <td>0</td>\n",
              "    </tr>\n",
              "    <tr>\n",
              "      <th>3</th>\n",
              "      <td>2019</td>\n",
              "      <td>5</td>\n",
              "      <td>10</td>\n",
              "      <td>SegmentoPrecio_1</td>\n",
              "      <td>Marca_1</td>\n",
              "      <td>Cupo_2</td>\n",
              "      <td>CapacidadEnvase_16</td>\n",
              "      <td>0.026345</td>\n",
              "      <td>-31.065261</td>\n",
              "      <td>134.748399</td>\n",
              "      <td>0</td>\n",
              "    </tr>\n",
              "    <tr>\n",
              "      <th>4</th>\n",
              "      <td>2019</td>\n",
              "      <td>5</td>\n",
              "      <td>10</td>\n",
              "      <td>SegmentoPrecio_1</td>\n",
              "      <td>Marca_4</td>\n",
              "      <td>Cupo_2</td>\n",
              "      <td>CapacidadEnvase_10</td>\n",
              "      <td>0.086938</td>\n",
              "      <td>0.000000</td>\n",
              "      <td>496.901005</td>\n",
              "      <td>0</td>\n",
              "    </tr>\n",
              "    <tr>\n",
              "      <th>5</th>\n",
              "      <td>2019</td>\n",
              "      <td>5</td>\n",
              "      <td>10</td>\n",
              "      <td>SegmentoPrecio_1</td>\n",
              "      <td>Marca_1</td>\n",
              "      <td>Cupo_2</td>\n",
              "      <td>CapacidadEnvase_10</td>\n",
              "      <td>0.369485</td>\n",
              "      <td>-114.891895</td>\n",
              "      <td>2853.911219</td>\n",
              "      <td>0</td>\n",
              "    </tr>\n",
              "    <tr>\n",
              "      <th>6</th>\n",
              "      <td>2019</td>\n",
              "      <td>5</td>\n",
              "      <td>10</td>\n",
              "      <td>SegmentoPrecio_1</td>\n",
              "      <td>Marca_5</td>\n",
              "      <td>Cupo_2</td>\n",
              "      <td>CapacidadEnvase_10</td>\n",
              "      <td>0.825907</td>\n",
              "      <td>-221.071444</td>\n",
              "      <td>6153.614786</td>\n",
              "      <td>0</td>\n",
              "    </tr>\n",
              "    <tr>\n",
              "      <th>7</th>\n",
              "      <td>2019</td>\n",
              "      <td>6</td>\n",
              "      <td>10</td>\n",
              "      <td>SegmentoPrecio_1</td>\n",
              "      <td>Marca_1</td>\n",
              "      <td>Cupo_1</td>\n",
              "      <td>CapacidadEnvase_12</td>\n",
              "      <td>0.036630</td>\n",
              "      <td>0.000000</td>\n",
              "      <td>303.759828</td>\n",
              "      <td>0</td>\n",
              "    </tr>\n",
              "    <tr>\n",
              "      <th>8</th>\n",
              "      <td>2019</td>\n",
              "      <td>5</td>\n",
              "      <td>10</td>\n",
              "      <td>SegmentoPrecio_2</td>\n",
              "      <td>Marca_6</td>\n",
              "      <td>Cupo_2</td>\n",
              "      <td>CapacidadEnvase_10</td>\n",
              "      <td>0.043469</td>\n",
              "      <td>0.000000</td>\n",
              "      <td>358.300464</td>\n",
              "      <td>0</td>\n",
              "    </tr>\n",
              "    <tr>\n",
              "      <th>9</th>\n",
              "      <td>2019</td>\n",
              "      <td>5</td>\n",
              "      <td>10</td>\n",
              "      <td>SegmentoPrecio_2</td>\n",
              "      <td>Marca_6</td>\n",
              "      <td>Cupo_1</td>\n",
              "      <td>CapacidadEnvase_10</td>\n",
              "      <td>0.004347</td>\n",
              "      <td>0.000000</td>\n",
              "      <td>43.469689</td>\n",
              "      <td>0</td>\n",
              "    </tr>\n",
              "  </tbody>\n",
              "</table>\n",
              "</div>"
            ],
            "text/plain": [
              "    Año  Mes  Cliente  ...        disc           nr producto\n",
              "0  2019    5       10  ...  -30.590603   900.328567        0\n",
              "1  2019    5       10  ...    0.000000   149.184463        0\n",
              "2  2019    5       10  ...    0.000000   359.625828        0\n",
              "3  2019    5       10  ...  -31.065261   134.748399        0\n",
              "4  2019    5       10  ...    0.000000   496.901005        0\n",
              "5  2019    5       10  ... -114.891895  2853.911219        0\n",
              "6  2019    5       10  ... -221.071444  6153.614786        0\n",
              "7  2019    6       10  ...    0.000000   303.759828        0\n",
              "8  2019    5       10  ...    0.000000   358.300464        0\n",
              "9  2019    5       10  ...    0.000000    43.469689        0\n",
              "\n",
              "[10 rows x 11 columns]"
            ]
          },
          "metadata": {
            "tags": []
          },
          "execution_count": 20
        }
      ]
    },
    {
      "cell_type": "code",
      "metadata": {
        "gather": {
          "logged": 1606514627627
        },
        "jupyter": {
          "outputs_hidden": false,
          "source_hidden": false
        },
        "nteract": {
          "transient": {
            "deleting": false
          }
        },
        "id": "LAwm19k53fb8"
      },
      "source": [
        ""
      ],
      "execution_count": null,
      "outputs": []
    },
    {
      "cell_type": "markdown",
      "metadata": {
        "id": "xy9DXPR_6YOf"
      },
      "source": [
        "### 1.4 Preprocesado"
      ]
    },
    {
      "cell_type": "code",
      "metadata": {
        "id": "DnmwuJm_7dec",
        "colab": {
          "base_uri": "https://localhost:8080/"
        },
        "outputId": "aa356632-e81d-47a4-9253-e85f97447420"
      },
      "source": [
        "ventas = pd.merge(df_estructura, df_venta, on='Cliente', how='right')\n",
        "ventas.shape"
      ],
      "execution_count": null,
      "outputs": [
        {
          "output_type": "execute_result",
          "data": {
            "text/plain": [
              "(1406116, 15)"
            ]
          },
          "metadata": {
            "tags": []
          },
          "execution_count": 95
        }
      ]
    },
    {
      "cell_type": "code",
      "metadata": {
        "colab": {
          "base_uri": "https://localhost:8080/",
          "height": 261
        },
        "id": "RBGof1IP7ssE",
        "outputId": "8ffb68f4-a67a-4654-aaa4-79648c05c599"
      },
      "source": [
        "# Combinamos los productos en un solo atributo\n",
        "ventas['Producto'] = ventas['Marca2'] + ' ' + ventas['Cupo2'] + ' ' + ventas['CapacidadEnvase2']\n",
        "ventas.drop(['Regional2', 'Año', 'Mes', 'Marca2', 'Cupo2', 'CapacidadEnvase2'], axis=1, inplace=True)\n",
        "\n",
        "# Remapeamos los productos de nuestra predición \n",
        "dicc = {'Marca_20 Cupo_3 CapacidadEnvase_9': 'Marca1',\n",
        "        'Marca_16 Cupo_2 CapacidadEnvase_10':'Marca2',\n",
        "        'Marca_9 Cupo_3 CapacidadEnvase_12': 'Marca3',\n",
        "        'Marca_38 Cupo_2 CapacidadEnvase_10': 'Marca_Inno1',\n",
        "        'Marca_39 Cupo_2 CapacidadEnvase_10': 'Marca_Inno2'}\n",
        "\n",
        "ventas['Producto'] = ventas['Producto'].map(dicc).fillna(ventas['Producto'])\n",
        "\n",
        "#Pasamos los productos a columnas\n",
        "ventas = ventas.pivot_table('nr', ['Cliente', 'Gerencia2', 'SubCanal2', 'Categoria', 'Nevera'], 'Producto')      \n",
        "ventas.reset_index(drop=False, inplace=True)\n",
        "ventas.rename_axis(None, axis=1, inplace=True)\n",
        "ventas.fillna(value=0, inplace=True)\n",
        "\n",
        "\n",
        "def encode_units(x):\n",
        "    if x <= 0:\n",
        "        return 0\n",
        "    if x > 0:\n",
        "        return 1\n",
        "ventas.iloc[:, 5:] = ventas.iloc[:, 5:].applymap(encode_units)\n",
        "ventas.head()"
      ],
      "execution_count": null,
      "outputs": [
        {
          "output_type": "execute_result",
          "data": {
            "text/html": [
              "<div>\n",
              "<style scoped>\n",
              "    .dataframe tbody tr th:only-of-type {\n",
              "        vertical-align: middle;\n",
              "    }\n",
              "\n",
              "    .dataframe tbody tr th {\n",
              "        vertical-align: top;\n",
              "    }\n",
              "\n",
              "    .dataframe thead th {\n",
              "        text-align: right;\n",
              "    }\n",
              "</style>\n",
              "<table border=\"1\" class=\"dataframe\">\n",
              "  <thead>\n",
              "    <tr style=\"text-align: right;\">\n",
              "      <th></th>\n",
              "      <th>Cliente</th>\n",
              "      <th>Gerencia2</th>\n",
              "      <th>SubCanal2</th>\n",
              "      <th>Categoria</th>\n",
              "      <th>Nevera</th>\n",
              "      <th>Marca1</th>\n",
              "      <th>Marca2</th>\n",
              "      <th>Marca3</th>\n",
              "      <th>Marca_1 Cupo_1 CapacidadEnvase_12</th>\n",
              "      <th>Marca_1 Cupo_1 CapacidadEnvase_14</th>\n",
              "      <th>Marca_1 Cupo_1 CapacidadEnvase_6</th>\n",
              "      <th>Marca_1 Cupo_2 CapacidadEnvase_10</th>\n",
              "      <th>Marca_1 Cupo_2 CapacidadEnvase_16</th>\n",
              "      <th>Marca_1 Cupo_2 CapacidadEnvase_17</th>\n",
              "      <th>Marca_1 Cupo_2 CapacidadEnvase_5</th>\n",
              "      <th>Marca_10 Cupo_1 CapacidadEnvase_12</th>\n",
              "      <th>Marca_10 Cupo_2 CapacidadEnvase_10</th>\n",
              "      <th>Marca_11 Cupo_3 CapacidadEnvase_2</th>\n",
              "      <th>Marca_11 Cupo_3 CapacidadEnvase_3</th>\n",
              "      <th>Marca_12 Cupo_1 CapacidadEnvase_10</th>\n",
              "      <th>Marca_12 Cupo_1 CapacidadEnvase_12</th>\n",
              "      <th>Marca_12 Cupo_2 CapacidadEnvase_10</th>\n",
              "      <th>Marca_12 Cupo_3 CapacidadEnvase_10</th>\n",
              "      <th>Marca_13 Cupo_2 CapacidadEnvase_10</th>\n",
              "      <th>Marca_13 Cupo_3 CapacidadEnvase_10</th>\n",
              "      <th>Marca_14 Cupo_1 CapacidadEnvase_12</th>\n",
              "      <th>Marca_14 Cupo_2 CapacidadEnvase_10</th>\n",
              "      <th>Marca_14 Cupo_3 CapacidadEnvase_10</th>\n",
              "      <th>Marca_15 Cupo_1 CapacidadEnvase_10</th>\n",
              "      <th>Marca_15 Cupo_2 CapacidadEnvase_11</th>\n",
              "      <th>Marca_15 Cupo_2 CapacidadEnvase_16</th>\n",
              "      <th>Marca_16 Cupo_1 CapacidadEnvase_10</th>\n",
              "      <th>Marca_16 Cupo_1 CapacidadEnvase_12</th>\n",
              "      <th>Marca_16 Cupo_1 CapacidadEnvase_6</th>\n",
              "      <th>Marca_16 Cupo_3 CapacidadEnvase_10</th>\n",
              "      <th>Marca_16 Cupo_5 CapacidadEnvase_17</th>\n",
              "      <th>Marca_17 Cupo_1 CapacidadEnvase_10</th>\n",
              "      <th>Marca_17 Cupo_2 CapacidadEnvase_10</th>\n",
              "      <th>Marca_18 Cupo_1 CapacidadEnvase_10</th>\n",
              "      <th>Marca_18 Cupo_2 CapacidadEnvase_10</th>\n",
              "      <th>...</th>\n",
              "      <th>Marca_33 Cupo_3 CapacidadEnvase_10</th>\n",
              "      <th>Marca_34 Cupo_3 CapacidadEnvase_10</th>\n",
              "      <th>Marca_35 Cupo_3 CapacidadEnvase_10</th>\n",
              "      <th>Marca_36 Cupo_2 CapacidadEnvase_10</th>\n",
              "      <th>Marca_37 Cupo_2 CapacidadEnvase_4</th>\n",
              "      <th>Marca_4 Cupo_1 CapacidadEnvase_12</th>\n",
              "      <th>Marca_4 Cupo_1 CapacidadEnvase_14</th>\n",
              "      <th>Marca_4 Cupo_1 CapacidadEnvase_6</th>\n",
              "      <th>Marca_4 Cupo_2 CapacidadEnvase_10</th>\n",
              "      <th>Marca_4 Cupo_2 CapacidadEnvase_16</th>\n",
              "      <th>Marca_4 Cupo_2 CapacidadEnvase_17</th>\n",
              "      <th>Marca_4 Cupo_2 CapacidadEnvase_4</th>\n",
              "      <th>Marca_4 Cupo_3 CapacidadEnvase_10</th>\n",
              "      <th>Marca_4 Cupo_5 CapacidadEnvase_17</th>\n",
              "      <th>Marca_5 Cupo_1 CapacidadEnvase_10</th>\n",
              "      <th>Marca_5 Cupo_1 CapacidadEnvase_14</th>\n",
              "      <th>Marca_5 Cupo_1 CapacidadEnvase_6</th>\n",
              "      <th>Marca_5 Cupo_2 CapacidadEnvase_10</th>\n",
              "      <th>Marca_5 Cupo_2 CapacidadEnvase_16</th>\n",
              "      <th>Marca_5 Cupo_2 CapacidadEnvase_17</th>\n",
              "      <th>Marca_5 Cupo_2 CapacidadEnvase_5</th>\n",
              "      <th>Marca_5 Cupo_3 CapacidadEnvase_10</th>\n",
              "      <th>Marca_6 Cupo_1 CapacidadEnvase_10</th>\n",
              "      <th>Marca_6 Cupo_1 CapacidadEnvase_12</th>\n",
              "      <th>Marca_6 Cupo_1 CapacidadEnvase_6</th>\n",
              "      <th>Marca_6 Cupo_2 CapacidadEnvase_10</th>\n",
              "      <th>Marca_6 Cupo_3 CapacidadEnvase_10</th>\n",
              "      <th>Marca_6 Cupo_5 CapacidadEnvase_17</th>\n",
              "      <th>Marca_7 Cupo_1 CapacidadEnvase_12</th>\n",
              "      <th>Marca_7 Cupo_1 CapacidadEnvase_6</th>\n",
              "      <th>Marca_7 Cupo_3 CapacidadEnvase_5</th>\n",
              "      <th>Marca_7 Cupo_3 CapacidadEnvase_8</th>\n",
              "      <th>Marca_8 Cupo_1 CapacidadEnvase_6</th>\n",
              "      <th>Marca_8 Cupo_2 CapacidadEnvase_10</th>\n",
              "      <th>Marca_8 Cupo_3 CapacidadEnvase_1</th>\n",
              "      <th>Marca_8 Cupo_3 CapacidadEnvase_10</th>\n",
              "      <th>Marca_9 Cupo_3 CapacidadEnvase_15</th>\n",
              "      <th>Marca_9 Cupo_3 CapacidadEnvase_3</th>\n",
              "      <th>Marca_Inno1</th>\n",
              "      <th>Marca_Inno2</th>\n",
              "    </tr>\n",
              "  </thead>\n",
              "  <tbody>\n",
              "    <tr>\n",
              "      <th>0</th>\n",
              "      <td>1</td>\n",
              "      <td>Gerencia_1</td>\n",
              "      <td>Subcanal_1</td>\n",
              "      <td>Categoria_1</td>\n",
              "      <td>0</td>\n",
              "      <td>0</td>\n",
              "      <td>0</td>\n",
              "      <td>0</td>\n",
              "      <td>0</td>\n",
              "      <td>0</td>\n",
              "      <td>0</td>\n",
              "      <td>0</td>\n",
              "      <td>0</td>\n",
              "      <td>0</td>\n",
              "      <td>0</td>\n",
              "      <td>0</td>\n",
              "      <td>0</td>\n",
              "      <td>0</td>\n",
              "      <td>0</td>\n",
              "      <td>0</td>\n",
              "      <td>0</td>\n",
              "      <td>0</td>\n",
              "      <td>0</td>\n",
              "      <td>0</td>\n",
              "      <td>0</td>\n",
              "      <td>0</td>\n",
              "      <td>0</td>\n",
              "      <td>0</td>\n",
              "      <td>0</td>\n",
              "      <td>0</td>\n",
              "      <td>0</td>\n",
              "      <td>0</td>\n",
              "      <td>0</td>\n",
              "      <td>0</td>\n",
              "      <td>0</td>\n",
              "      <td>0</td>\n",
              "      <td>0</td>\n",
              "      <td>0</td>\n",
              "      <td>0</td>\n",
              "      <td>0</td>\n",
              "      <td>...</td>\n",
              "      <td>0</td>\n",
              "      <td>0</td>\n",
              "      <td>0</td>\n",
              "      <td>0</td>\n",
              "      <td>0</td>\n",
              "      <td>0</td>\n",
              "      <td>0</td>\n",
              "      <td>0</td>\n",
              "      <td>1</td>\n",
              "      <td>0</td>\n",
              "      <td>0</td>\n",
              "      <td>0</td>\n",
              "      <td>0</td>\n",
              "      <td>0</td>\n",
              "      <td>0</td>\n",
              "      <td>0</td>\n",
              "      <td>0</td>\n",
              "      <td>0</td>\n",
              "      <td>0</td>\n",
              "      <td>0</td>\n",
              "      <td>0</td>\n",
              "      <td>0</td>\n",
              "      <td>0</td>\n",
              "      <td>0</td>\n",
              "      <td>0</td>\n",
              "      <td>0</td>\n",
              "      <td>0</td>\n",
              "      <td>0</td>\n",
              "      <td>0</td>\n",
              "      <td>0</td>\n",
              "      <td>0</td>\n",
              "      <td>0</td>\n",
              "      <td>0</td>\n",
              "      <td>0</td>\n",
              "      <td>0</td>\n",
              "      <td>0</td>\n",
              "      <td>0</td>\n",
              "      <td>0</td>\n",
              "      <td>1</td>\n",
              "      <td>0</td>\n",
              "    </tr>\n",
              "    <tr>\n",
              "      <th>1</th>\n",
              "      <td>2</td>\n",
              "      <td>Gerencia_1</td>\n",
              "      <td>Subcanal_1</td>\n",
              "      <td>Categoria_1</td>\n",
              "      <td>0</td>\n",
              "      <td>1</td>\n",
              "      <td>0</td>\n",
              "      <td>0</td>\n",
              "      <td>0</td>\n",
              "      <td>0</td>\n",
              "      <td>0</td>\n",
              "      <td>1</td>\n",
              "      <td>0</td>\n",
              "      <td>0</td>\n",
              "      <td>1</td>\n",
              "      <td>1</td>\n",
              "      <td>1</td>\n",
              "      <td>0</td>\n",
              "      <td>0</td>\n",
              "      <td>0</td>\n",
              "      <td>0</td>\n",
              "      <td>0</td>\n",
              "      <td>0</td>\n",
              "      <td>0</td>\n",
              "      <td>0</td>\n",
              "      <td>0</td>\n",
              "      <td>0</td>\n",
              "      <td>0</td>\n",
              "      <td>0</td>\n",
              "      <td>0</td>\n",
              "      <td>0</td>\n",
              "      <td>0</td>\n",
              "      <td>0</td>\n",
              "      <td>0</td>\n",
              "      <td>0</td>\n",
              "      <td>0</td>\n",
              "      <td>0</td>\n",
              "      <td>0</td>\n",
              "      <td>0</td>\n",
              "      <td>0</td>\n",
              "      <td>...</td>\n",
              "      <td>0</td>\n",
              "      <td>0</td>\n",
              "      <td>0</td>\n",
              "      <td>0</td>\n",
              "      <td>0</td>\n",
              "      <td>1</td>\n",
              "      <td>0</td>\n",
              "      <td>1</td>\n",
              "      <td>1</td>\n",
              "      <td>1</td>\n",
              "      <td>0</td>\n",
              "      <td>0</td>\n",
              "      <td>0</td>\n",
              "      <td>0</td>\n",
              "      <td>0</td>\n",
              "      <td>0</td>\n",
              "      <td>0</td>\n",
              "      <td>0</td>\n",
              "      <td>0</td>\n",
              "      <td>0</td>\n",
              "      <td>0</td>\n",
              "      <td>0</td>\n",
              "      <td>0</td>\n",
              "      <td>0</td>\n",
              "      <td>0</td>\n",
              "      <td>0</td>\n",
              "      <td>0</td>\n",
              "      <td>0</td>\n",
              "      <td>0</td>\n",
              "      <td>1</td>\n",
              "      <td>0</td>\n",
              "      <td>0</td>\n",
              "      <td>0</td>\n",
              "      <td>0</td>\n",
              "      <td>0</td>\n",
              "      <td>0</td>\n",
              "      <td>0</td>\n",
              "      <td>0</td>\n",
              "      <td>1</td>\n",
              "      <td>0</td>\n",
              "    </tr>\n",
              "    <tr>\n",
              "      <th>2</th>\n",
              "      <td>3</td>\n",
              "      <td>Gerencia_1</td>\n",
              "      <td>Subcanal_1</td>\n",
              "      <td>Categoria_1</td>\n",
              "      <td>0</td>\n",
              "      <td>0</td>\n",
              "      <td>0</td>\n",
              "      <td>0</td>\n",
              "      <td>0</td>\n",
              "      <td>0</td>\n",
              "      <td>0</td>\n",
              "      <td>1</td>\n",
              "      <td>0</td>\n",
              "      <td>0</td>\n",
              "      <td>0</td>\n",
              "      <td>0</td>\n",
              "      <td>0</td>\n",
              "      <td>0</td>\n",
              "      <td>0</td>\n",
              "      <td>0</td>\n",
              "      <td>0</td>\n",
              "      <td>0</td>\n",
              "      <td>0</td>\n",
              "      <td>0</td>\n",
              "      <td>0</td>\n",
              "      <td>0</td>\n",
              "      <td>0</td>\n",
              "      <td>0</td>\n",
              "      <td>0</td>\n",
              "      <td>0</td>\n",
              "      <td>0</td>\n",
              "      <td>0</td>\n",
              "      <td>0</td>\n",
              "      <td>0</td>\n",
              "      <td>0</td>\n",
              "      <td>0</td>\n",
              "      <td>0</td>\n",
              "      <td>0</td>\n",
              "      <td>0</td>\n",
              "      <td>0</td>\n",
              "      <td>...</td>\n",
              "      <td>0</td>\n",
              "      <td>0</td>\n",
              "      <td>0</td>\n",
              "      <td>0</td>\n",
              "      <td>0</td>\n",
              "      <td>0</td>\n",
              "      <td>0</td>\n",
              "      <td>0</td>\n",
              "      <td>1</td>\n",
              "      <td>0</td>\n",
              "      <td>0</td>\n",
              "      <td>0</td>\n",
              "      <td>0</td>\n",
              "      <td>0</td>\n",
              "      <td>0</td>\n",
              "      <td>0</td>\n",
              "      <td>0</td>\n",
              "      <td>0</td>\n",
              "      <td>0</td>\n",
              "      <td>0</td>\n",
              "      <td>0</td>\n",
              "      <td>0</td>\n",
              "      <td>0</td>\n",
              "      <td>0</td>\n",
              "      <td>0</td>\n",
              "      <td>0</td>\n",
              "      <td>0</td>\n",
              "      <td>0</td>\n",
              "      <td>0</td>\n",
              "      <td>0</td>\n",
              "      <td>0</td>\n",
              "      <td>0</td>\n",
              "      <td>0</td>\n",
              "      <td>0</td>\n",
              "      <td>0</td>\n",
              "      <td>0</td>\n",
              "      <td>0</td>\n",
              "      <td>0</td>\n",
              "      <td>1</td>\n",
              "      <td>0</td>\n",
              "    </tr>\n",
              "    <tr>\n",
              "      <th>3</th>\n",
              "      <td>4</td>\n",
              "      <td>Gerencia_1</td>\n",
              "      <td>Subcanal_1</td>\n",
              "      <td>Categoria_1</td>\n",
              "      <td>1</td>\n",
              "      <td>1</td>\n",
              "      <td>0</td>\n",
              "      <td>0</td>\n",
              "      <td>0</td>\n",
              "      <td>0</td>\n",
              "      <td>0</td>\n",
              "      <td>1</td>\n",
              "      <td>0</td>\n",
              "      <td>0</td>\n",
              "      <td>0</td>\n",
              "      <td>1</td>\n",
              "      <td>1</td>\n",
              "      <td>0</td>\n",
              "      <td>0</td>\n",
              "      <td>0</td>\n",
              "      <td>0</td>\n",
              "      <td>0</td>\n",
              "      <td>0</td>\n",
              "      <td>0</td>\n",
              "      <td>0</td>\n",
              "      <td>0</td>\n",
              "      <td>0</td>\n",
              "      <td>0</td>\n",
              "      <td>0</td>\n",
              "      <td>1</td>\n",
              "      <td>0</td>\n",
              "      <td>0</td>\n",
              "      <td>0</td>\n",
              "      <td>0</td>\n",
              "      <td>0</td>\n",
              "      <td>0</td>\n",
              "      <td>0</td>\n",
              "      <td>0</td>\n",
              "      <td>0</td>\n",
              "      <td>0</td>\n",
              "      <td>...</td>\n",
              "      <td>0</td>\n",
              "      <td>0</td>\n",
              "      <td>0</td>\n",
              "      <td>0</td>\n",
              "      <td>0</td>\n",
              "      <td>0</td>\n",
              "      <td>0</td>\n",
              "      <td>0</td>\n",
              "      <td>1</td>\n",
              "      <td>0</td>\n",
              "      <td>0</td>\n",
              "      <td>0</td>\n",
              "      <td>0</td>\n",
              "      <td>0</td>\n",
              "      <td>0</td>\n",
              "      <td>0</td>\n",
              "      <td>0</td>\n",
              "      <td>0</td>\n",
              "      <td>0</td>\n",
              "      <td>0</td>\n",
              "      <td>0</td>\n",
              "      <td>0</td>\n",
              "      <td>1</td>\n",
              "      <td>0</td>\n",
              "      <td>0</td>\n",
              "      <td>1</td>\n",
              "      <td>0</td>\n",
              "      <td>0</td>\n",
              "      <td>0</td>\n",
              "      <td>1</td>\n",
              "      <td>1</td>\n",
              "      <td>0</td>\n",
              "      <td>0</td>\n",
              "      <td>0</td>\n",
              "      <td>0</td>\n",
              "      <td>0</td>\n",
              "      <td>0</td>\n",
              "      <td>0</td>\n",
              "      <td>1</td>\n",
              "      <td>0</td>\n",
              "    </tr>\n",
              "    <tr>\n",
              "      <th>4</th>\n",
              "      <td>5</td>\n",
              "      <td>Gerencia_1</td>\n",
              "      <td>Subcanal_1</td>\n",
              "      <td>Categoria_2</td>\n",
              "      <td>1</td>\n",
              "      <td>1</td>\n",
              "      <td>0</td>\n",
              "      <td>1</td>\n",
              "      <td>1</td>\n",
              "      <td>0</td>\n",
              "      <td>0</td>\n",
              "      <td>1</td>\n",
              "      <td>1</td>\n",
              "      <td>1</td>\n",
              "      <td>0</td>\n",
              "      <td>1</td>\n",
              "      <td>1</td>\n",
              "      <td>0</td>\n",
              "      <td>0</td>\n",
              "      <td>0</td>\n",
              "      <td>0</td>\n",
              "      <td>0</td>\n",
              "      <td>0</td>\n",
              "      <td>1</td>\n",
              "      <td>0</td>\n",
              "      <td>0</td>\n",
              "      <td>0</td>\n",
              "      <td>0</td>\n",
              "      <td>0</td>\n",
              "      <td>0</td>\n",
              "      <td>0</td>\n",
              "      <td>0</td>\n",
              "      <td>0</td>\n",
              "      <td>0</td>\n",
              "      <td>0</td>\n",
              "      <td>0</td>\n",
              "      <td>1</td>\n",
              "      <td>0</td>\n",
              "      <td>0</td>\n",
              "      <td>0</td>\n",
              "      <td>...</td>\n",
              "      <td>0</td>\n",
              "      <td>0</td>\n",
              "      <td>0</td>\n",
              "      <td>0</td>\n",
              "      <td>0</td>\n",
              "      <td>1</td>\n",
              "      <td>0</td>\n",
              "      <td>1</td>\n",
              "      <td>1</td>\n",
              "      <td>0</td>\n",
              "      <td>0</td>\n",
              "      <td>0</td>\n",
              "      <td>0</td>\n",
              "      <td>0</td>\n",
              "      <td>0</td>\n",
              "      <td>0</td>\n",
              "      <td>0</td>\n",
              "      <td>1</td>\n",
              "      <td>0</td>\n",
              "      <td>0</td>\n",
              "      <td>0</td>\n",
              "      <td>0</td>\n",
              "      <td>1</td>\n",
              "      <td>0</td>\n",
              "      <td>0</td>\n",
              "      <td>1</td>\n",
              "      <td>0</td>\n",
              "      <td>0</td>\n",
              "      <td>0</td>\n",
              "      <td>1</td>\n",
              "      <td>0</td>\n",
              "      <td>0</td>\n",
              "      <td>0</td>\n",
              "      <td>1</td>\n",
              "      <td>0</td>\n",
              "      <td>0</td>\n",
              "      <td>0</td>\n",
              "      <td>1</td>\n",
              "      <td>0</td>\n",
              "      <td>0</td>\n",
              "    </tr>\n",
              "  </tbody>\n",
              "</table>\n",
              "<p>5 rows × 110 columns</p>\n",
              "</div>"
            ],
            "text/plain": [
              "   Cliente   Gerencia2  ... Marca_Inno1 Marca_Inno2\n",
              "0        1  Gerencia_1  ...           1           0\n",
              "1        2  Gerencia_1  ...           1           0\n",
              "2        3  Gerencia_1  ...           1           0\n",
              "3        4  Gerencia_1  ...           1           0\n",
              "4        5  Gerencia_1  ...           0           0\n",
              "\n",
              "[5 rows x 110 columns]"
            ]
          },
          "metadata": {
            "tags": []
          },
          "execution_count": 96
        }
      ]
    },
    {
      "cell_type": "code",
      "metadata": {
        "id": "ZN6CtL4e8dDj",
        "colab": {
          "base_uri": "https://localhost:8080/"
        },
        "outputId": "5e0f99f9-7319-4418-9967-e3fe425ec99b"
      },
      "source": [
        "columns = ['Gerencia2', 'SubCanal2', 'Categoria']\n",
        "try:\n",
        "    for column in columns:\n",
        "        ventas1[column] = ventas1[column].str.extract('(\\d+)').astype(int)\n",
        "except:\n",
        "    pass\n",
        "# not outliers\n",
        "vent = ventas1.iloc[:, 4:]\n"
      ],
      "execution_count": null,
      "outputs": [
        {
          "output_type": "execute_result",
          "data": {
            "text/plain": [
              "Nevera                               1.0\n",
              "Marca1                               0.0\n",
              "Marca2                               0.0\n",
              "Marca3                               1.0\n",
              "Marca_1 Cupo_1 CapacidadEnvase_12    1.0\n",
              "                                    ... \n",
              "Marca_8 Cupo_3 CapacidadEnvase_10    0.0\n",
              "Marca_9 Cupo_3 CapacidadEnvase_15    0.0\n",
              "Marca_9 Cupo_3 CapacidadEnvase_3     1.0\n",
              "Marca_Inno1                          1.0\n",
              "Marca_Inno2                          0.0\n",
              "Length: 106, dtype: float64"
            ]
          },
          "metadata": {
            "tags": []
          },
          "execution_count": 39
        }
      ]
    },
    {
      "cell_type": "code",
      "metadata": {
        "id": "SGFwAaSKNffe"
      },
      "source": [
        ""
      ],
      "execution_count": null,
      "outputs": []
    },
    {
      "cell_type": "code",
      "metadata": {
        "id": "p_IQdugMS8-x"
      },
      "source": [
        ""
      ],
      "execution_count": null,
      "outputs": []
    },
    {
      "cell_type": "code",
      "metadata": {
        "gather": {
          "logged": 1606514631312
        },
        "jupyter": {
          "outputs_hidden": false,
          "source_hidden": false
        },
        "nteract": {
          "transient": {
            "deleting": false
          }
        },
        "id": "gMbZWT6i3fb8"
      },
      "source": [
        ""
      ],
      "execution_count": null,
      "outputs": []
    },
    {
      "cell_type": "markdown",
      "metadata": {
        "nteract": {
          "transient": {
            "deleting": false
          }
        },
        "id": "wyPkropR3fb8"
      },
      "source": [
        "# Resultado del modelo\n"
      ]
    },
    {
      "cell_type": "code",
      "metadata": {
        "id": "FqDVxeLZ3fb8",
        "colab": {
          "base_uri": "https://localhost:8080/"
        },
        "outputId": "403a3aa2-e592-48dd-f239-3acf70eb1672"
      },
      "source": [
        "df_test['Cliente']"
      ],
      "execution_count": null,
      "outputs": [
        {
          "output_type": "execute_result",
          "data": {
            "text/plain": [
              "0          10\n",
              "1          12\n",
              "2          14\n",
              "3          15\n",
              "4          18\n",
              "        ...  \n",
              "9297    20186\n",
              "9298    20261\n",
              "9299    20309\n",
              "9300    20360\n",
              "9301    20569\n",
              "Name: Cliente, Length: 9302, dtype: int64"
            ]
          },
          "metadata": {
            "tags": []
          },
          "execution_count": 28
        }
      ]
    },
    {
      "cell_type": "code",
      "metadata": {
        "id": "9Vtmy6-e3fb9"
      },
      "source": [
        "df_test"
      ],
      "execution_count": null,
      "outputs": []
    },
    {
      "cell_type": "code",
      "metadata": {
        "id": "o4DQdjDW3fb9"
      },
      "source": [
        "test = pd.merge(df_estructura, df_test, on='Cliente', how='right')\n",
        "test.drop(['Regional2'], axis=1, inplace=True)"
      ],
      "execution_count": null,
      "outputs": []
    },
    {
      "cell_type": "code",
      "metadata": {
        "colab": {
          "base_uri": "https://localhost:8080/",
          "height": 195
        },
        "id": "nXONSoo4neiR",
        "outputId": "b5b69695-b436-466f-ab7d-a0f40efba42f"
      },
      "source": [
        "test.head()"
      ],
      "execution_count": null,
      "outputs": [
        {
          "output_type": "execute_result",
          "data": {
            "text/html": [
              "<div>\n",
              "<style scoped>\n",
              "    .dataframe tbody tr th:only-of-type {\n",
              "        vertical-align: middle;\n",
              "    }\n",
              "\n",
              "    .dataframe tbody tr th {\n",
              "        vertical-align: top;\n",
              "    }\n",
              "\n",
              "    .dataframe thead th {\n",
              "        text-align: right;\n",
              "    }\n",
              "</style>\n",
              "<table border=\"1\" class=\"dataframe\">\n",
              "  <thead>\n",
              "    <tr style=\"text-align: right;\">\n",
              "      <th></th>\n",
              "      <th>Cliente</th>\n",
              "      <th>Gerencia2</th>\n",
              "      <th>SubCanal2</th>\n",
              "      <th>Categoria</th>\n",
              "      <th>Nevera</th>\n",
              "      <th>Marca1</th>\n",
              "      <th>Marca2</th>\n",
              "      <th>Marca3</th>\n",
              "      <th>Marca_Inno1</th>\n",
              "      <th>Marca_Inno2</th>\n",
              "    </tr>\n",
              "  </thead>\n",
              "  <tbody>\n",
              "    <tr>\n",
              "      <th>0</th>\n",
              "      <td>10</td>\n",
              "      <td>Gerencia_3</td>\n",
              "      <td>Subcanal_1</td>\n",
              "      <td>Categoria_2</td>\n",
              "      <td>1</td>\n",
              "      <td>NaN</td>\n",
              "      <td>NaN</td>\n",
              "      <td>NaN</td>\n",
              "      <td>NaN</td>\n",
              "      <td>NaN</td>\n",
              "    </tr>\n",
              "    <tr>\n",
              "      <th>1</th>\n",
              "      <td>12</td>\n",
              "      <td>Gerencia_3</td>\n",
              "      <td>Subcanal_4</td>\n",
              "      <td>Categoria_4</td>\n",
              "      <td>1</td>\n",
              "      <td>NaN</td>\n",
              "      <td>NaN</td>\n",
              "      <td>NaN</td>\n",
              "      <td>NaN</td>\n",
              "      <td>NaN</td>\n",
              "    </tr>\n",
              "    <tr>\n",
              "      <th>2</th>\n",
              "      <td>14</td>\n",
              "      <td>Gerencia_3</td>\n",
              "      <td>Subcanal_1</td>\n",
              "      <td>Categoria_2</td>\n",
              "      <td>1</td>\n",
              "      <td>NaN</td>\n",
              "      <td>NaN</td>\n",
              "      <td>NaN</td>\n",
              "      <td>NaN</td>\n",
              "      <td>NaN</td>\n",
              "    </tr>\n",
              "    <tr>\n",
              "      <th>3</th>\n",
              "      <td>15</td>\n",
              "      <td>Gerencia_2</td>\n",
              "      <td>Subcanal_3</td>\n",
              "      <td>Categoria_2</td>\n",
              "      <td>1</td>\n",
              "      <td>NaN</td>\n",
              "      <td>NaN</td>\n",
              "      <td>NaN</td>\n",
              "      <td>NaN</td>\n",
              "      <td>NaN</td>\n",
              "    </tr>\n",
              "    <tr>\n",
              "      <th>4</th>\n",
              "      <td>18</td>\n",
              "      <td>Gerencia_3</td>\n",
              "      <td>Subcanal_1</td>\n",
              "      <td>Categoria_5</td>\n",
              "      <td>1</td>\n",
              "      <td>NaN</td>\n",
              "      <td>NaN</td>\n",
              "      <td>NaN</td>\n",
              "      <td>NaN</td>\n",
              "      <td>NaN</td>\n",
              "    </tr>\n",
              "  </tbody>\n",
              "</table>\n",
              "</div>"
            ],
            "text/plain": [
              "   Cliente   Gerencia2   SubCanal2  ... Marca3  Marca_Inno1  Marca_Inno2\n",
              "0       10  Gerencia_3  Subcanal_1  ...    NaN          NaN          NaN\n",
              "1       12  Gerencia_3  Subcanal_4  ...    NaN          NaN          NaN\n",
              "2       14  Gerencia_3  Subcanal_1  ...    NaN          NaN          NaN\n",
              "3       15  Gerencia_2  Subcanal_3  ...    NaN          NaN          NaN\n",
              "4       18  Gerencia_3  Subcanal_1  ...    NaN          NaN          NaN\n",
              "\n",
              "[5 rows x 10 columns]"
            ]
          },
          "metadata": {
            "tags": []
          },
          "execution_count": 88
        }
      ]
    },
    {
      "cell_type": "code",
      "metadata": {
        "id": "3Mu5GiJfpz1c"
      },
      "source": [
        "X = ventas.iloc[:,1:5].copy()\n",
        "y = ventas.iloc[:,5:].copy()\n",
        "X_train, X_test, y_train, y_test = train_test_split(X, y, test_size= 0.2, random_state=100)"
      ],
      "execution_count": 225,
      "outputs": []
    },
    {
      "cell_type": "code",
      "metadata": {
        "id": "Hj4BltaLnijU"
      },
      "source": [
        "# Creamos el preprocesador \n",
        "categorical_columns = ['Gerencia2', 'SubCanal2', 'Categoria']\n",
        "preprocessor = make_column_transformer((OneHotEncoder(), categorical_columns),\n",
        "                                       remainder=\"passthrough\")\n",
        "\n",
        "# Creamos el predictor \n",
        "bosque = RandomForestClassifier(random_state=100)"
      ],
      "execution_count": 226,
      "outputs": []
    },
    {
      "cell_type": "code",
      "metadata": {
        "colab": {
          "base_uri": "https://localhost:8080/"
        },
        "id": "L48M1tKb8doP",
        "outputId": "e281501c-36a6-4594-d396-9a597c5ec081"
      },
      "source": [
        "cols = ['Marca1', 'Marca2', 'Marca3', 'Marca_Inno1', 'Marca_Inno2']\n",
        "\n",
        "# Métricas\n",
        "auc_train = []\n",
        "auc_test = []\n",
        "\n",
        "# Predcciones de probabilidades\n",
        "y_train_pred = np.zeros((X_train.shape[0], y_train.shape[1]))\n",
        "y_test_pred = np.zeros((X_test.shape[0], y_test.shape[1]))\n",
        "\n",
        "for i, j in enumerate(cols):\n",
        "    print ('Col {}'.format(j))\n",
        "    \n",
        "    #Entrenamos\n",
        "    pipeline = make_pipeline(preprocessor, bosque)\n",
        "    pipeline.fit(X_train, y_train.loc[:, j].values) \n",
        "    \n",
        "    #Predecimos la probabilidad\n",
        "    y_train_pred[:, i] = pipeline.predict_proba(X_train)[:, 1]\n",
        "    y_test_pred[:, i] = pipeline.predict_proba(X_test)[:, 1]\n",
        "\n",
        "    #Hallamos el área bajo la curva de cada estrella\n",
        "    auc_train_col = roc_auc_score(y_train[j], y_train_pred[:, i]) #.loc[:, j].values\n",
        "    auc_test_col = roc_auc_score(y_test[j], y_test_pred[:, i])\n",
        "    print('ROC-AUC en train: {:.3f}'.format(auc_train_col))\n",
        "    print('ROC-AUC en test: {:.3f}'.format(auc_test_col))\n",
        "    auc_train.append(auc_train_col)\n",
        "    auc_test.append(auc_test_col)\n",
        "    print('='*60)\n",
        "\n",
        "print()\n",
        "print('ROC-AUC promedio en el set de Train:', np.mean(auc_train))\n",
        "print('ROC-AUC promedio en el set de Test:', np.mean(auc_test))"
      ],
      "execution_count": 227,
      "outputs": [
        {
          "output_type": "stream",
          "text": [
            "Col Marca1\n",
            "ROC-AUC en train: 0.761\n",
            "ROC-AUC en test: 0.686\n",
            "============================================================\n",
            "Col Marca2\n",
            "ROC-AUC en train: 0.841\n",
            "ROC-AUC en test: 0.745\n",
            "============================================================\n",
            "Col Marca3\n",
            "ROC-AUC en train: 0.788\n",
            "ROC-AUC en test: 0.733\n",
            "============================================================\n",
            "Col Marca_Inno1\n",
            "ROC-AUC en train: 0.826\n",
            "ROC-AUC en test: 0.788\n",
            "============================================================\n",
            "Col Marca_Inno2\n",
            "ROC-AUC en train: 0.820\n",
            "ROC-AUC en test: 0.761\n",
            "============================================================\n",
            "\n",
            "ROC-AUC promedio en el set de Train: 0.8073283294108275\n",
            "ROC-AUC promedio en el set de Test: 0.7426611957987143\n"
          ],
          "name": "stdout"
        }
      ]
    },
    {
      "cell_type": "markdown",
      "metadata": {
        "id": "smJuvP02G9_H"
      },
      "source": [
        "#### Todas los productos"
      ]
    },
    {
      "cell_type": "code",
      "metadata": {
        "colab": {
          "base_uri": "https://localhost:8080/"
        },
        "id": "rjbwKetoCMr7",
        "outputId": "e384632a-644e-4bac-a00a-7eba439a35c9"
      },
      "source": [
        "# Creamos el pipeline\n",
        "pipeline = make_pipeline(preprocessor, bosque)\n",
        "pipeline.fit(X_train, y_train)"
      ],
      "execution_count": 228,
      "outputs": [
        {
          "output_type": "execute_result",
          "data": {
            "text/plain": [
              "Pipeline(memory=None,\n",
              "         steps=[('columntransformer',\n",
              "                 ColumnTransformer(n_jobs=None, remainder='passthrough',\n",
              "                                   sparse_threshold=0.3,\n",
              "                                   transformer_weights=None,\n",
              "                                   transformers=[('onehotencoder',\n",
              "                                                  OneHotEncoder(categories='auto',\n",
              "                                                                drop=None,\n",
              "                                                                dtype=<class 'numpy.float64'>,\n",
              "                                                                handle_unknown='error',\n",
              "                                                                sparse=True),\n",
              "                                                  ['Gerencia2', 'SubCanal2',\n",
              "                                                   'Categoria'])],\n",
              "                                   verbose=False)),\n",
              "                ('rando...\n",
              "                 RandomForestClassifier(bootstrap=True, ccp_alpha=0.0,\n",
              "                                        class_weight=None, criterion='gini',\n",
              "                                        max_depth=None, max_features='auto',\n",
              "                                        max_leaf_nodes=None, max_samples=None,\n",
              "                                        min_impurity_decrease=0.0,\n",
              "                                        min_impurity_split=None,\n",
              "                                        min_samples_leaf=1, min_samples_split=2,\n",
              "                                        min_weight_fraction_leaf=0.0,\n",
              "                                        n_estimators=100, n_jobs=None,\n",
              "                                        oob_score=False, random_state=100,\n",
              "                                        verbose=0, warm_start=False))],\n",
              "         verbose=False)"
            ]
          },
          "metadata": {
            "tags": []
          },
          "execution_count": 228
        }
      ]
    },
    {
      "cell_type": "code",
      "metadata": {
        "id": "QfTuN8-lxb3g"
      },
      "source": [
        "y_train_pred = pipeline.predict_proba(X_train)\n",
        "\n",
        "preds = []\n",
        "for cliente in range(y_train.shape[0]):\n",
        "  lista = []\n",
        "  #print('Cliente', cliente)\n",
        "  for producto in range(y_train.shape[1]):\n",
        "    #print(producto)\n",
        "    lista.append(1 - (y_train_pred[producto][cliente][0]))\n",
        "  preds.append(lista)\n",
        "preds = np.array(preds)\n",
        "y_train_pred = pd.DataFrame(preds, columns=y_train.columns)"
      ],
      "execution_count": 229,
      "outputs": []
    },
    {
      "cell_type": "code",
      "metadata": {
        "id": "ZwsyGXRhrf4j"
      },
      "source": [
        "y_test_pred = pipeline.predict_proba(X_test)\n",
        "\n",
        "preds = []\n",
        "for cliente in range(y_test.shape[0]):\n",
        "  lista = []\n",
        "  #print('Cliente', cliente)\n",
        "  for producto in range(y_test.shape[1]):\n",
        "    #print(producto)\n",
        "    lista.append(1 - (y_test_pred[producto][cliente][0]))\n",
        "  preds.append(lista)\n",
        "preds = np.array(preds)\n",
        "y_test_pred = pd.DataFrame(preds, columns=y_test.columns)"
      ],
      "execution_count": 230,
      "outputs": []
    },
    {
      "cell_type": "code",
      "metadata": {
        "colab": {
          "base_uri": "https://localhost:8080/"
        },
        "id": "uEfblSSXDZCL",
        "outputId": "78fa5ca5-d188-4c9a-ec64-d835643cb659"
      },
      "source": [
        "cols = ['Marca1', 'Marca2', 'Marca3', 'Marca_Inno1', 'Marca_Inno2']\n",
        "\n",
        "# Métricas\n",
        "auc_train_all = []\n",
        "auc_test_all = []\n",
        "\n",
        "for i, j in enumerate(cols):\n",
        "    print(j)\n",
        "    #Hallamos el área bajo la curva de cada estrella\n",
        "    auc_train_col = roc_auc_score(y_train[j], y_train_pred[j]) #.loc[:, j].values\n",
        "    auc_test_col = roc_auc_score(y_test[j], y_test_pred[j])\n",
        "    print('ROC-AUC en train: {:.3f}'.format(auc_train_col))\n",
        "    print('ROC-AUC en test: {:.3f}'.format(auc_test_col))\n",
        "    auc_train_all.append(auc_train_col)\n",
        "    auc_test_all.append(auc_test_col)\n",
        "    print('='*60)\n",
        "\n",
        "print()\n",
        "print('ROC-AUC promedio en el set de Train:', np.mean(auc_train_all))\n",
        "print('ROC-AUC promedio en el set de Test:', np.mean(auc_test_all))"
      ],
      "execution_count": 231,
      "outputs": [
        {
          "output_type": "stream",
          "text": [
            "Marca1\n",
            "ROC-AUC en train: 0.761\n",
            "ROC-AUC en test: 0.685\n",
            "============================================================\n",
            "Marca2\n",
            "ROC-AUC en train: 0.841\n",
            "ROC-AUC en test: 0.741\n",
            "============================================================\n",
            "Marca3\n",
            "ROC-AUC en train: 0.788\n",
            "ROC-AUC en test: 0.733\n",
            "============================================================\n",
            "Marca_Inno1\n",
            "ROC-AUC en train: 0.826\n",
            "ROC-AUC en test: 0.788\n",
            "============================================================\n",
            "Marca_Inno2\n",
            "ROC-AUC en train: 0.820\n",
            "ROC-AUC en test: 0.759\n",
            "============================================================\n",
            "\n",
            "ROC-AUC promedio en el set de Train: 0.8073975875844717\n",
            "ROC-AUC promedio en el set de Test: 0.7410179216505786\n"
          ],
          "name": "stdout"
        }
      ]
    },
    {
      "cell_type": "markdown",
      "metadata": {
        "id": "xnYqyWK7IGzg"
      },
      "source": [
        "### Modelo final"
      ]
    },
    {
      "cell_type": "code",
      "metadata": {
        "id": "oTwtPKNC0lW0"
      },
      "source": [
        "X_train = ventas.iloc[:,1:5].copy()\n",
        "y_train = ventas.iloc[:,5:].copy()\n",
        "X_test = test.iloc[:,1:5].copy()"
      ],
      "execution_count": 232,
      "outputs": []
    },
    {
      "cell_type": "code",
      "metadata": {
        "colab": {
          "base_uri": "https://localhost:8080/"
        },
        "id": "apq88K67rgA7",
        "outputId": "006485c1-c50b-4065-d6c5-ac534a063938"
      },
      "source": [
        "# Creamos el pipeline\n",
        "pipeline = make_pipeline(preprocessor, bosque)\n",
        "pipeline.fit(X_train, y_train)"
      ],
      "execution_count": 233,
      "outputs": [
        {
          "output_type": "execute_result",
          "data": {
            "text/plain": [
              "Pipeline(memory=None,\n",
              "         steps=[('columntransformer',\n",
              "                 ColumnTransformer(n_jobs=None, remainder='passthrough',\n",
              "                                   sparse_threshold=0.3,\n",
              "                                   transformer_weights=None,\n",
              "                                   transformers=[('onehotencoder',\n",
              "                                                  OneHotEncoder(categories='auto',\n",
              "                                                                drop=None,\n",
              "                                                                dtype=<class 'numpy.float64'>,\n",
              "                                                                handle_unknown='error',\n",
              "                                                                sparse=True),\n",
              "                                                  ['Gerencia2', 'SubCanal2',\n",
              "                                                   'Categoria'])],\n",
              "                                   verbose=False)),\n",
              "                ('rando...\n",
              "                 RandomForestClassifier(bootstrap=True, ccp_alpha=0.0,\n",
              "                                        class_weight=None, criterion='gini',\n",
              "                                        max_depth=None, max_features='auto',\n",
              "                                        max_leaf_nodes=None, max_samples=None,\n",
              "                                        min_impurity_decrease=0.0,\n",
              "                                        min_impurity_split=None,\n",
              "                                        min_samples_leaf=1, min_samples_split=2,\n",
              "                                        min_weight_fraction_leaf=0.0,\n",
              "                                        n_estimators=100, n_jobs=None,\n",
              "                                        oob_score=False, random_state=100,\n",
              "                                        verbose=0, warm_start=False))],\n",
              "         verbose=False)"
            ]
          },
          "metadata": {
            "tags": []
          },
          "execution_count": 233
        }
      ]
    },
    {
      "cell_type": "code",
      "metadata": {
        "id": "yc8V4ykdKSxT"
      },
      "source": [
        "y_test_pred = pipeline.predict_proba(X_test)\n",
        "\n",
        "preds = []\n",
        "for cliente in range(X_test.shape[0]):\n",
        "  lista = []\n",
        "  #print('Cliente', cliente)\n",
        "  for producto in range(y_train.shape[1]):\n",
        "    #print(producto)\n",
        "    lista.append(1 - (y_test_pred[producto][cliente][0]))\n",
        "  preds.append(lista)\n",
        "preds = np.array(preds)\n",
        "y_test_pred = pd.DataFrame(preds, columns=y_train.columns)"
      ],
      "execution_count": 235,
      "outputs": []
    },
    {
      "cell_type": "code",
      "metadata": {
        "id": "2t7daK15J1hK"
      },
      "source": [
        "cols = ['Marca1', 'Marca2', 'Marca3', 'Marca_Inno1', 'Marca_Inno2']\n",
        "df_test[cols] = y_test_pred[cols]"
      ],
      "execution_count": 246,
      "outputs": []
    },
    {
      "cell_type": "code",
      "metadata": {
        "colab": {
          "base_uri": "https://localhost:8080/",
          "height": 195
        },
        "id": "xxM-TSvaNFga",
        "outputId": "d9983c2b-2727-4753-a45a-23fe93e54578"
      },
      "source": [
        "df_test.head()"
      ],
      "execution_count": 247,
      "outputs": [
        {
          "output_type": "execute_result",
          "data": {
            "text/html": [
              "<div>\n",
              "<style scoped>\n",
              "    .dataframe tbody tr th:only-of-type {\n",
              "        vertical-align: middle;\n",
              "    }\n",
              "\n",
              "    .dataframe tbody tr th {\n",
              "        vertical-align: top;\n",
              "    }\n",
              "\n",
              "    .dataframe thead th {\n",
              "        text-align: right;\n",
              "    }\n",
              "</style>\n",
              "<table border=\"1\" class=\"dataframe\">\n",
              "  <thead>\n",
              "    <tr style=\"text-align: right;\">\n",
              "      <th></th>\n",
              "      <th>Cliente</th>\n",
              "      <th>Marca1</th>\n",
              "      <th>Marca2</th>\n",
              "      <th>Marca3</th>\n",
              "      <th>Marca_Inno1</th>\n",
              "      <th>Marca_Inno2</th>\n",
              "    </tr>\n",
              "  </thead>\n",
              "  <tbody>\n",
              "    <tr>\n",
              "      <th>0</th>\n",
              "      <td>10</td>\n",
              "      <td>0.296739</td>\n",
              "      <td>0.302953</td>\n",
              "      <td>0.744662</td>\n",
              "      <td>0.196949</td>\n",
              "      <td>0.099205</td>\n",
              "    </tr>\n",
              "    <tr>\n",
              "      <th>1</th>\n",
              "      <td>12</td>\n",
              "      <td>0.141709</td>\n",
              "      <td>0.573783</td>\n",
              "      <td>0.889801</td>\n",
              "      <td>0.174804</td>\n",
              "      <td>0.027062</td>\n",
              "    </tr>\n",
              "    <tr>\n",
              "      <th>2</th>\n",
              "      <td>14</td>\n",
              "      <td>0.296739</td>\n",
              "      <td>0.302953</td>\n",
              "      <td>0.744662</td>\n",
              "      <td>0.196949</td>\n",
              "      <td>0.099205</td>\n",
              "    </tr>\n",
              "    <tr>\n",
              "      <th>3</th>\n",
              "      <td>15</td>\n",
              "      <td>0.378536</td>\n",
              "      <td>0.077782</td>\n",
              "      <td>0.516931</td>\n",
              "      <td>0.160692</td>\n",
              "      <td>0.055421</td>\n",
              "    </tr>\n",
              "    <tr>\n",
              "      <th>4</th>\n",
              "      <td>18</td>\n",
              "      <td>0.919364</td>\n",
              "      <td>0.038153</td>\n",
              "      <td>0.958217</td>\n",
              "      <td>0.461528</td>\n",
              "      <td>0.014754</td>\n",
              "    </tr>\n",
              "  </tbody>\n",
              "</table>\n",
              "</div>"
            ],
            "text/plain": [
              "   Cliente    Marca1    Marca2    Marca3  Marca_Inno1  Marca_Inno2\n",
              "0       10  0.296739  0.302953  0.744662     0.196949     0.099205\n",
              "1       12  0.141709  0.573783  0.889801     0.174804     0.027062\n",
              "2       14  0.296739  0.302953  0.744662     0.196949     0.099205\n",
              "3       15  0.378536  0.077782  0.516931     0.160692     0.055421\n",
              "4       18  0.919364  0.038153  0.958217     0.461528     0.014754"
            ]
          },
          "metadata": {
            "tags": []
          },
          "execution_count": 247
        }
      ]
    },
    {
      "cell_type": "code",
      "metadata": {
        "id": "cp4pvrLsMSZ0"
      },
      "source": [
        "df_test.to_csv(path_or_buf='/content/drive/MyDrive/Hackaton/test.csv')"
      ],
      "execution_count": 252,
      "outputs": []
    }
  ]
}